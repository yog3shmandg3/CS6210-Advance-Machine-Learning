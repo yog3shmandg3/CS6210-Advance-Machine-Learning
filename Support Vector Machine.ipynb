{
 "cells": [
  {
   "cell_type": "markdown",
   "metadata": {},
   "source": [
    "<b>Q1. Consider a Support Vector Machine and the following training data from two categories:</b>"
   ]
  },
  {
   "cell_type": "markdown",
   "metadata": {},
   "source": [
    "\\begin{align}\n",
    "w1 & = {(1, 1)^T, (2, 2)^T, (2, 0)^T} \\\\\n",
    "w2 & = {(0, 0)^T, (1, 0)^T, (0, 1)^T} \\\\ \n",
    "\\end{align}"
   ]
  },
  {
   "cell_type": "markdown",
   "metadata": {},
   "source": [
    "<b>a. Construct the optimal hyperplane, and the optimal hypermargin. </b><br>\n",
    "<b>Answer 1.a.</b> <br> Let's assume that w1 is the positively labelled data points and w2 be the negatively labelled data points. We want to find optimal hyperplane such that it effectively discriminates between two classes. <br>"
   ]
  },
  {
   "cell_type": "code",
   "execution_count": 1,
   "metadata": {},
   "outputs": [
    {
     "data": {
      "text/plain": [
       "<matplotlib.collections.PathCollection at 0x7f4e682ab390>"
      ]
     },
     "execution_count": 1,
     "metadata": {},
     "output_type": "execute_result"
    }
   ],
   "source": [
    "import numpy as np\n",
    "import matplotlib.pyplot as plt\n",
    "w11a = np.array([[1, 2, 2],[1, 2, 0]])\n",
    "w21a = np.array([[0, 1, 0],[0, 0, 1]])\n",
    "fig1a = plt.figure()\n",
    "fig1a = plt.figure(figsize=(7,5))\n",
    "ax1a = fig1a.add_subplot(111)\n",
    "ax1a.scatter(w11a.T[:,0], w11a.T[:,1])\n",
    "ax1a.scatter(w21a.T[:,0], w21a.T[:,1])"
   ]
  },
  {
   "cell_type": "markdown",
   "metadata": {},
   "source": [
    "Since the data points are linearly separable, we can use Linear SVM i.e mapping function is Identity function. <br>\n",
    "It's obvious from the above plot that there are three support vectors, <br>\n",
    "\\begin{align}\n",
    "s1 & = (1, 0)^T \\\\\n",
    "s2 & = (0, 1)^T \\\\\n",
    "s3 & = (1, 1)^T \n",
    "\\end{align}"
   ]
  },
  {
   "cell_type": "markdown",
   "metadata": {},
   "source": [
    "We augment the support vectors with 1 as the bias input. Hence, <br>\n",
    "\\begin{align} \n",
    "s1' & = (1, 0, 1)^T \\\\\n",
    "s2' & = (0, 1, 1)^T \\\\\n",
    "s3' & = (1, 1, 1)^T \n",
    "\\end{align}"
   ]
  },
  {
   "cell_type": "markdown",
   "metadata": {},
   "source": [
    "We need to find values for αi such that, <br>\n",
    "\\begin{align}\n",
    "α1Φ(s1)·Φ(s1) +α2Φ(s2)·Φ(s1) +α3Φ(s3)·Φ(s1) = -1 \\\\\n",
    "α1Φ(s1)·Φ(s2) +α2Φ(s2)·Φ(s2) +α3Φ(s3)·Φ(s2) = -1 \\\\\n",
    "α1Φ(s1)·Φ(s3) +α2Φ(s2)·Φ(s3) +α3Φ(s3)·Φ(s3) = +1 \n",
    "\\end{align}\n",
    "<br>Since Φ = 1, the above equations reduces to, <br>\n",
    "\\begin{align}\n",
    "α1 s1'.s1' + α2 s2'.s1' + α3 s3'.s1' = -1 \\\\\n",
    "α1 s1'.s2' + α2 s2'.s2' + α3 s3'.s2' = -1 \\\\\n",
    "α1 s1'.s3' + α2 s2'.s3' + α3 s3'.s3' = +1\n",
    "\\end{align}\n",
    "<br>Substituting the values for s1', s2' and s3', we get, <br>\n",
    "\\begin{align}\n",
    "α1 (1, 0, 1)^T.(1, 0, 1)^T + α2 (0, 1, 1)^T.(1, 0, 1)^T + α3 (1, 1, 1)^T.(1, 0, 1)^T = -1 \\\\\n",
    "α1 (1, 0, 1)^T.(0, 1, 1)^T + α2 (0, 1, 1)^T.(0, 1, 1)^T + α3 (1, 1, 1)^T.(0, 1, 1)^T = -1 \\\\\n",
    "α1 (1, 0, 1)^T.(1, 1, 1)^T + α2 (0, 1, 1)^T.(1, 1, 1)^T + α3 (1, 1, 1)^T.(1, 1, 1)^T = +1\n",
    "\\end{align}"
   ]
  },
  {
   "cell_type": "markdown",
   "metadata": {},
   "source": [
    "After computing the dot products, the above equations result in, \n",
    "\\begin{align}\n",
    "2α1 + α2 + 2α3 = -1 \\\\\n",
    "α1 + 2α2 + 2α3 = -1 \\\\\n",
    "2α1 + 2α2 + 3α3 = +1\n",
    "\\end{align}\n",
    "<br>Solving the above set of linear equations, we will get the value for α1, α2 and α3. <br>\n",
    "\\begin{align}\n",
    "α1 & = -5 \\\\\n",
    "α2 & = -5 \\\\\n",
    "α3 & = +7\n",
    "\\end{align}"
   ]
  },
  {
   "cell_type": "markdown",
   "metadata": {},
   "source": [
    "Now, \n",
    "\\begin{equation*}\n",
    "w' = \\sum_{i} αi si'\n",
    "\\end{equation*}\n",
    "\\begin{align}\n",
    "w' = -5 (1, 0, 1)^T + -5 (0, 1, 1)^T + 7 (1, 1, 1)^T \\\\\n",
    "w' = (2, 2, -3)^T \n",
    "\\end{align}"
   ]
  },
  {
   "cell_type": "markdown",
   "metadata": {},
   "source": [
    "The vectors were augmented with a bias, so equating the last entry in w' with the hyperplane offset b. The separating equation, <br>\n",
    "\\begin{align}\n",
    "w^T x + b = 0 \\\\\n",
    "(1, 1)x + (-3) = 0\n",
    "\\end{align}\n",
    "<br> Solving for x, we get, <br>\n",
    "\\begin{align}\n",
    "x = (3/2, 3/2)^T\n",
    "\\end{align}\n",
    "<br>Plotting x gives the optimal hyperplane for the data points.<br>"
   ]
  },
  {
   "cell_type": "code",
   "execution_count": 2,
   "metadata": {},
   "outputs": [
    {
     "data": {
      "text/plain": [
       "[<matplotlib.lines.Line2D at 0x7f4e6803bfd0>]"
      ]
     },
     "execution_count": 2,
     "metadata": {},
     "output_type": "execute_result"
    },
    {
     "data": {
      "text/plain": [
       "<matplotlib.figure.Figure at 0x7f4e680c3978>"
      ]
     },
     "metadata": {},
     "output_type": "display_data"
    },
    {
     "data": {
      "image/png": "[encoded data removed]",
      "text/plain": [
       "<matplotlib.figure.Figure at 0x7f4e680c39e8>"
      ]
     },
     "metadata": {
      "needs_background": "light"
     },
     "output_type": "display_data"
    }
   ],
   "source": [
    "fig1a = plt.figure()\n",
    "fig1a = plt.figure(figsize=(7,5))\n",
    "ax1a = fig1a.add_subplot(111)\n",
    "ax1a.scatter(w11a.T[:,0], w11a.T[:,1])\n",
    "ax1a.scatter(w21a.T[:,0], w21a.T[:,1])\n",
    "ax1a.plot([0, 3/2],[3/2, 0])\n",
    "ax1a.plot([0, 1],[1, 0])\n",
    "ax1a.plot([0, 2],[2, 0])"
   ]
  },
  {
   "cell_type": "markdown",
   "metadata": {},
   "source": [
    "The optimal margin can be calculated by,\n",
    "\\begin{align}\n",
    "d = \\frac{1}{||w||} \\\\\n",
    "d = \\frac{1}{\\frac{8}{\\sqrt{8}}} \\\\\n",
    "d = \\frac{\\sqrt{2}}{4}\n",
    "\\end{align}"
   ]
  },
  {
   "cell_type": "markdown",
   "metadata": {},
   "source": [
    "<b>b. What are the hyper parameters involved in SVM.</b><br>\n",
    "<b>Answer 1.b</b><br>\n",
    "Support vector classifier is used for discriminating between classes, it tries to find the optimal hyperplane by maximizing the distance between the hyperplane and the data points.<br>\n",
    "There are several hyperparameters for Support vector machines, some of them are:\n",
    "<ul>\n",
    "    <li>Kernel - Kernel hyperparameter defines the type of hyperplane which is used to discriminate between the classes. There are several type of Kernels, some of them are, <ul><li>Linear kernel</li><li>Poly kernel</li><li>Sigmoid kernel</li><li>RBF (radial basis function) kernel</li><li>Non-linear kernel</li></ul></li>\n",
    "    <li>gamma - gamma hyperparameter is used for non-linear hyperplanes, the higher the value for gamma the more it tries to fit in the training data.</li>\n",
    "    <li>C - C hyperparameter is used to control the tradeoff between smooth decision boundary and classifying the training points accurately.</li>\n",
    "    <li>degree - degree hyperparameter is used in conjunction with Poly kernel, it is used to specify the degree of polynomial to be used to discriminate between the classes.</li>\n",
    "</ul>"
   ]
  },
  {
   "cell_type": "markdown",
   "metadata": {},
   "source": [
    "<b>c. Construct the solution in dual space by finding the Lagrange undetermined multipliers αi.</b><br>\n",
    "<b>Answer 1.c</b><br>\n",
    "We need to maximize L(α), \n",
    "\\begin{align}\n",
    "L(α) = \\sum_{i=1}^{n} αi - 1/2 \\sum_{i,j}^{n} αi yi αj yj xi^t xj \\\\\n",
    "with constraint \\sum_{i} αi yi = 0 \\\\ \n",
    "0 <= αi <= c \n",
    "\\end{align} <br>\n",
    "Solved above!"
   ]
  },
  {
   "cell_type": "markdown",
   "metadata": {},
   "source": [
    "<b>Q2. Write your own code to implement a support vector machine (SVM) to classify the above given data.</b><br>\n",
    "<b>Answer 2</b>"
   ]
  },
  {
   "cell_type": "code",
   "execution_count": 3,
   "metadata": {},
   "outputs": [
    {
     "name": "stdout",
     "output_type": "stream",
     "text": [
      "[[-3.  -2.9  1. ]\n",
      " [ 0.5  8.7  1. ]\n",
      " [ 2.9  2.1  1. ]\n",
      " [-0.1  5.2  1. ]\n",
      " [-4.   2.2  1. ]\n",
      " [-1.3  3.7  1. ]\n",
      " [-3.4  6.2  1. ]\n",
      " [-4.1  3.4  1. ]\n",
      " [-5.1  1.6  1. ]\n",
      " [ 1.9  5.1  1. ]\n",
      " [-2.  -8.4  1. ]\n",
      " [-8.9  0.2  1. ]\n",
      " [-4.2 -7.7  1. ]\n",
      " [-8.5 -3.2  1. ]\n",
      " [-6.7 -4.   1. ]\n",
      " [-0.5 -9.2  1. ]\n",
      " [-5.3 -6.7  1. ]\n",
      " [-8.7 -6.4  1. ]\n",
      " [-7.1 -9.7  1. ]\n",
      " [-8.  -6.3  1. ]]\n",
      "[1, 1, 1, 1, 1, 1, 1, 1, 1, 1, -1, -1, -1, -1, -1, -1, -1, -1, -1, -1]\n"
     ]
    }
   ],
   "source": [
    "x = np.array([[-3.0, -2.9, 1],[0.5, 8.7, 1],\n",
    "      [2.9, 2.1, 1],[-0.1, 5.2, 1],\n",
    "      [-4.0, 2.2, 1],[-1.3, 3.7, 1],\n",
    "      [-3.4, 6.2, 1],[-4.1, 3.4, 1],\n",
    "      [-5.1, 1.6, 1],[1.9, 5.1, 1],\n",
    "      [-2.0, -8.4, 1],[-8.9, 0.2, 1],\n",
    "      [-4.2, -7.7, 1],[-8.5, -3.2, 1],\n",
    "      [-6.7, -4.0, 1],[-0.5, -9.2, 1],\n",
    "      [-5.3, -6.7, 1],[-8.7, -6.4, 1],\n",
    "      [-7.1, -9.7, 1],[-8.0, -6.3, 1]       \n",
    "])\n",
    "y = ([+1,+1,+1,+1,+1,+1,+1,+1,+1,+1,-1,-1,-1,-1,-1,-1,-1,-1,-1,-1])\n",
    "print(x)\n",
    "print(y)"
   ]
  },
  {
   "cell_type": "code",
   "execution_count": 4,
   "metadata": {},
   "outputs": [
    {
     "data": {
      "image/png": "[encoded data removed]",
      "text/plain": [
       "<matplotlib.figure.Figure at 0x7f4e6808c5f8>"
      ]
     },
     "metadata": {
      "needs_background": "light"
     },
     "output_type": "display_data"
    }
   ],
   "source": [
    "for val, inp in enumerate(x):\n",
    "    if y[val] == 1:\n",
    "        plt.scatter(inp[0], inp[1], marker='^', c='yellow', edgecolor='black')\n",
    "    else:\n",
    "        plt.scatter(inp[0], inp[1], marker='o', c='green', edgecolor='black')"
   ]
  },
  {
   "cell_type": "code",
   "execution_count": 5,
   "metadata": {},
   "outputs": [],
   "source": [
    "def svm_function(x,y):\n",
    "    w = np.zeros(len(x[0]))\n",
    "    l_rate = 0.3\n",
    "    epoch = 100000 #100000\n",
    "    for e in range(epoch):\n",
    "        for i, val in enumerate(x):\n",
    "            val1 = np.dot(x[i], w)\n",
    "            if (y[i]*val1 < 1):\n",
    "                w = w + l_rate * ((y[i]*x[i]) - (2*(1/epoch)*w))\n",
    "            else:\n",
    "                w = w + l_rate * (-2*(1/epoch)*w)\n",
    "    return w"
   ]
  },
  {
   "cell_type": "code",
   "execution_count": 6,
   "metadata": {},
   "outputs": [
    {
     "name": "stdout",
     "output_type": "stream",
     "text": [
      "[0.75929164 0.66233337 5.32078152]\n"
     ]
    }
   ],
   "source": [
    "w = svm_function(x, y)\n",
    "print(w)"
   ]
  },
  {
   "cell_type": "code",
   "execution_count": 7,
   "metadata": {},
   "outputs": [
    {
     "name": "stdout",
     "output_type": "stream",
     "text": [
      "-7.0075597637536715\n",
      "-8.033388864917443\n",
      "-8.32457677331757\n",
      "-9.543202571289624\n",
      "-5.690542754189773\n",
      "-6.523575158545262\n"
     ]
    }
   ],
   "source": [
    "a = -w[2] / w[0]\n",
    "b = -w[2] / w[1]\n",
    "print(a)\n",
    "print(b)\n",
    "na = (-w[2]-1) / w[0]\n",
    "nb = (-w[2]-1) / w[1]\n",
    "print(na)\n",
    "print(nb)\n",
    "pa = (-w[2]+1) / w[0]\n",
    "pb = (-w[2]+1) / w[1]\n",
    "print(pa)\n",
    "print(pb)"
   ]
  },
  {
   "cell_type": "code",
   "execution_count": 8,
   "metadata": {},
   "outputs": [
    {
     "data": {
      "text/plain": [
       "[<matplotlib.lines.Line2D at 0x7f4e67f0c908>]"
      ]
     },
     "execution_count": 8,
     "metadata": {},
     "output_type": "execute_result"
    },
    {
     "data": {
      "image/png": "[encoded data removed]",
      "text/plain": [
       "<matplotlib.figure.Figure at 0x7f4e67f99470>"
      ]
     },
     "metadata": {
      "needs_background": "light"
     },
     "output_type": "display_data"
    }
   ],
   "source": [
    "for val, inp in enumerate(x):\n",
    "    if y[val] == 1:\n",
    "        plt.scatter(inp[0], inp[1], marker='^', c='yellow', edgecolor='black')\n",
    "    else:\n",
    "        plt.scatter(inp[0], inp[1], marker='o', c='green', edgecolor='black')\n",
    "plt.plot([0, a],[b, 0], label='Optimal Hyperplane')\n",
    "plt.plot([0, na],[nb, 0])\n",
    "plt.plot([0, pa],[pb, 0])"
   ]
  },
  {
   "cell_type": "code",
   "execution_count": null,
   "metadata": {},
   "outputs": [],
   "source": []
  }
 ],
 "metadata": {
  "kernelspec": {
   "display_name": "Python 2",
   "language": "python",
   "name": "python2"
  },
  "language_info": {
   "codemirror_mode": {
    "name": "ipython",
    "version": 3
   },
   "file_extension": ".py",
   "mimetype": "text/x-python",
   "name": "python",
   "nbconvert_exporter": "python",
   "pygments_lexer": "ipython3",
   "version": "3.6.8"
  }
 },
 "nbformat": 4,
 "nbformat_minor": 2
}
